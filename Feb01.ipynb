{
 "cells": [
  {
   "cell_type": "markdown",
   "metadata": {},
   "source": [
    "$\\textbf{Linear Impact Model}$\n",
    "\n",
    "Denote Value Function for policy $\\pi$ as: $V^{\\pi}(t,P_t,R_t) = E_{\\pi}[\\sum_{i=t}^T N_i(P_i−\\beta N_i)∣(t,P_t,R_t)]$\n",
    "\n",
    "Optimal Value Function satisfies as Bellman Equation: $V ^* \\left(t,P_t,R_t\\right)=\\max_{N_t} \\left(N_t\\left(P_t-\\beta N_t\\right)+E\\left[V^*\\left(t + 1,P_{t+1},R_{t+1}\\right)\\right]\\right)$\n",
    "\n",
    "Then we can infer $T-1$ as:\n",
    "\n",
    "$V^*(T-1,P_{T-1},R_{T-1})=\\max_{N_{T-1}}\\left\\{N_{T-1}(P_{T-1}-\\beta N_{T-1})+E\\left[R_T(P_T-\\beta R_T)\\right]\\right\\}\n",
    "=\\max_{N_{T-1}} \\left\\{N_{T-1}(P_{T-1}-\\beta N_{T-1})+E\\left[(R_{T-1}-N_{T-1})(P_T-\\beta (R_{T-1}-N_{T-1}))\\right]\\right\\}\n",
    "=\\max_{N_{T-1}}{N_{T-1}}(P_{T-1}-\\beta N_{T-1})+(R_{T-1}-N_{T-1})(P_{T-1}-\\alpha N_{T-1} - \\beta (R_{T-1}-N_{T-1})))$\n",
    "\n",
    "Differentiating this expression w.r.t. $N _ { T - 1 }$ and setting to 0 gives:\n",
    "$2N_{T-1}^{*}(\\alpha-2\\beta)-R_{T-1}(\\alpha-2\\beta)=0\\Rightarrow N_{T-1}^{*}=\\frac{R_{T-1}}{2}$\n",
    "\n",
    "Substituting and getting: $V^*\\left(T-1,P_{T-1},R_{T-1}\\right) =R_{T-1}P_{T-1}-R_{T-1}^2 \\left(\\frac{\\alpha+2\\beta}{4}\\right)$\n",
    "\n",
    "Continuing backwards: $N_t^*= \\frac{R_t}{T-t+1}$\n",
    "\n",
    "$V^*(t,P_t,R_t)=R_tP_t-\\frac{R_t^2}{2}(\\frac{2\\beta +(T-t)\\alpha}{T-t+1})$\n"
   ]
  },
  {
   "cell_type": "code",
   "execution_count": null,
   "metadata": {
    "collapsed": true
   },
   "outputs": [],
   "source": []
  }
 ],
 "metadata": {
  "kernelspec": {
   "display_name": "Python 3",
   "language": "python",
   "name": "python3"
  },
  "language_info": {
   "codemirror_mode": {
    "name": "ipython",
    "version": 3
   },
   "file_extension": ".py",
   "mimetype": "text/x-python",
   "name": "python",
   "nbconvert_exporter": "python",
   "pygments_lexer": "ipython3",
   "version": "3.6.2"
  }
 },
 "nbformat": 4,
 "nbformat_minor": 2
}
