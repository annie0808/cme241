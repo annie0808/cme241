{
 "cells": [
  {
   "cell_type": "markdown",
   "metadata": {},
   "source": [
    "$\\textbf{Feb 06 Monte Carlo and TD}$\n",
    "\n",
    "$\\textbf{1. Monte Carlo}$\n",
    "\n",
    "There are first-visit Monte Carlo and every-visit Monte Carlo. The differences are for first-visit Monte Carlo, increment counter and return when the first time-step t that state s is visited in an episode while for every-visit Monte Carlo, increment counter and return when every time time-step t that state s is visited in an episode while for every-visit Monte Carlo.\n",
    "\n",
    "My code design is based on a tabular RL and it is modified based on Professor Ashwin Rao's code where in this case whether it is first-visit MC is determined by a boolean input argument. \n",
    "\n",
    "For code please see mc.py. Using the data from Professor Rao's code, we can get mc path be [(1, 'a', 5.0, True)] and estimated value function {1: 9.56, 2: 14.34}."
   ]
  },
  {
   "cell_type": "markdown",
   "metadata": {},
   "source": [
    "$\\textbf{2. TD}$\n",
    "\n",
    "In this hw, we focus on one step TD(0), where we updating $V(S_t)=V(S_t)+\\alpha (R_{t+1}+\\gamma V(S_{t+1})-V(S_t))$. \n",
    "\n",
    "The estimated return $R_{t+1}+\\gamma V(S_{t+1})$ is called TD target. \n",
    "\n",
    "The step difference $\\delta_t = R_{t+1}+\\gamma V(S_{t+1})-V(S_t)$ is called TD error. \n",
    "\n",
    "For the code, please refer to TD_zero.py. Using the similar data as above, the estimated value function is {1: 11.23, 2: 18.04}.\n",
    "\n",
    "Comparing to DP policy evaluation, we can get value function as {1: 10.32, 2: 15.4}. We can see Monte Carlo is a little more closer. It may be because it does not bootstrap and learn from the complete episodes. "
   ]
  },
  {
   "cell_type": "markdown",
   "metadata": {},
   "source": [
    "$\\textbf{3. Prove that fixed learning rate (step size alpha) for MC is equivalent to an exponentially decaying average of episode returns}$\n",
    "\n",
    "$V(S_{t})^{k}=V(S_{t})^{k-1}+\\alpha (G_{t}^{k-1}-V(S_{t})^{k-1})$\n",
    "\n",
    "$=(1-\\alpha )V(S_{t})^{k-1}+\\alpha G_{t}^{k-1}$\n",
    "\n",
    "$=V(S_{t})^{k}=(1-\\alpha)((1-\\alpha )V(S_{t})^{k-2}+\\alpha G_{t}^{k-2})+\\alpha G_{t}^{k-1}$\n",
    "\n",
    "$...$\n",
    "\n",
    "$=(1-\\alpha)^{k-1}\\alpha G_{t}^{0}+...+(1-\\alpha)\\alpha G_{t}^{k-2}+\\alpha G_{t}^{k-1}$\n",
    "\n",
    "\n",
    "$=\\alpha ((1-\\alpha)^{k-1} G_{t}^{0}+...+(1-\\alpha)G_{t}^{k-2}+\\alpha G_{t}^{k-1})$\n",
    "\n",
    "Hence, proved."
   ]
  },
  {
   "cell_type": "code",
   "execution_count": null,
   "metadata": {
    "collapsed": true
   },
   "outputs": [],
   "source": []
  }
 ],
 "metadata": {
  "kernelspec": {
   "display_name": "Python 3",
   "language": "python",
   "name": "python3"
  },
  "language_info": {
   "codemirror_mode": {
    "name": "ipython",
    "version": 3
   },
   "file_extension": ".py",
   "mimetype": "text/x-python",
   "name": "python",
   "nbconvert_exporter": "python",
   "pygments_lexer": "ipython3",
   "version": "3.6.2"
  }
 },
 "nbformat": 4,
 "nbformat_minor": 2
}
