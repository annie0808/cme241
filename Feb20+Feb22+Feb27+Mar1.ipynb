{
 "cells": [
  {
   "cell_type": "markdown",
   "metadata": {},
   "source": [
    "$\\textbf{Feb20-Mar1 Function Approximation}$\n",
    "\n",
    "For Monte Carlo and TD, I use a RL function approximation base modified from Professor Rao's code. Then, using this base, I design for Monte Carlo and TD function approximation. For code, please see mc_fa.py and td_fa.py.\n",
    "\n",
    "Monte Carlo is $\\Delta \\mathbf{w}=\\alpha (G_{t}-\\hat{v}(S_{t},\\mathbf{w}))\\nabla_{\\mathbf{w}}\\hat{v}(S_{t},\\mathbf{w})$ and \n",
    "\n",
    "TD is $\\Delta\\mathbf{w}=\\alpha(R_{t+1}+\\gamma \\hat{v}(S_{t+1}, \\mathbf{w})-\\hat{v}(S_{t},\\mathbf{w}))\\nabla_{\\mathbf{w}}\\hat{v}(S_{t},\\mathbf{w})$.\n",
    "\n",
    "To see the convergence, the table below is very important:\n",
    "![title](fa.jpg)\n"
   ]
  },
  {
   "cell_type": "code",
   "execution_count": null,
   "metadata": {
    "collapsed": true
   },
   "outputs": [],
   "source": []
  }
 ],
 "metadata": {
  "kernelspec": {
   "display_name": "Python 3",
   "language": "python",
   "name": "python3"
  },
  "language_info": {
   "codemirror_mode": {
    "name": "ipython",
    "version": 3
   },
   "file_extension": ".py",
   "mimetype": "text/x-python",
   "name": "python",
   "nbconvert_exporter": "python",
   "pygments_lexer": "ipython3",
   "version": "3.6.2"
  }
 },
 "nbformat": 4,
 "nbformat_minor": 2
}
