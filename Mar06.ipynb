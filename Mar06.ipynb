{
 "cells": [
  {
   "cell_type": "markdown",
   "metadata": {},
   "source": [
    "$\\textbf{Mar06 Policy Gradient}$\n",
    "\n",
    "$\\textbf{1. Proof of the Policy Gradient Theorem}$\n",
    "\n",
    "Proof:\n",
    "\n",
    "$J(\\theta)=\\int_{S} p_{0}(s_{0}) \\cdot V^{\\pi}(s_{0})\\cdot d s_{0}=\\int_{S} p_{0}(s_{0}) \\int_{A} \\pi(s_{0},a_{0};\\theta)\\cdot Q^{\\pi}(s_{0},a_{0})\\cdot d a_{0} \\cdot d s_{0}$\n",
    "\n",
    "Then using derivative by parts to get:\n",
    "\n",
    "$\\nabla_{\\theta} J(\\theta)=\\int_{S} p_{0}(s_{0})\\int_{A} \\nabla_{\\theta} \\pi(s_{0},a_{0};\\theta)\\cdot Q^{\\pi}(s_{0},a_{0})\\cdot d a_{0}\\cdot d s_{0}+\\int_{S} p_{0}(s_{0})\\int_{A}\\pi(s_{0}, a_{0};\\theta)\\cdot\\nabla_{\\theta} Q^{\\pi}(s_{0},a_{0})\\cdot da_{0}\\cdot d s_{0}$\n",
    "\n",
    "For the second part, put the partial derivative with respect to $\\theta$ inside the integral:\n",
    "\n",
    "$\\nabla_{\\theta} J(\\theta)=\\int_{S} p_{0}(s_{0})\\int_{A}\\nabla_{\\theta} \\pi(s_{0},a_{0};\\theta)\\cdot Q^{\\pi}(s_{0},a)\\cdot d a_{0} \\cdot d s_{0}+\\int_{S} p_{0}(s_{0})\\int_{A}\\pi(s_{0}, a_{0} ;\\theta) \\int_{S}\\gamma\\cdot P_{s, s_{1}}^{a_{0}}\\cdot \\nabla_{\\theta} V^{\\pi}(s_{1})\\cdot d s_{1} \\cdot d a_{0} \\cdot d s_{0}$\n",
    "\n",
    "Now we interchange the integral order for the second part. Note we are allowed to do so because we have taken care of the independence of variable:\n",
    "\n",
    "$\\nabla_{\\theta} J(\\theta)=\\int_{Sp_{0}(s_{0})\\int_{A}\\nabla_{\\theta}\\pi(s_{0},a_{0};\\theta) \\cdot Q^{\\pi}(s_{0},a_{0})\\cdot da_{0}\\cdot d s_{0}}+\\int_{S}(\\int_{S}\\gamma\\cdot p_{0}(s_{0}) \\int_{A}\\pi(s_{0},a_{0};\\theta)\\cdot P_{s_{0},s_{1}}^{a_{0}} \\cdot d a_{0} \\cdot d s_{0}) \\cdot \\nabla_{\\theta} V^{\\pi}(s_{1})\\cdot d s_{1}$\n",
    "  \n",
    "Then we use Bellman: \n",
    "\n",
    "$\\nabla_{\\theta} J(\\theta)=\\int_{S} p_{0}(s_{0})\\int_{A}\\cdot \\nabla_{\\theta}\\pi(s_{0},a_{0}; \\theta)\\cdot Q^{\\pi}(s_{0}, a_{0})\\cdot d a_{0}\\cdot d s_{0}+\\int_{S}\\int_{S}\\gamma p_{0}(s_{0}) p(s_{0}\\rightarrow s_{1}, 1,\\pi) d s_{0}(\\int_{A} \\nabla_{\\theta} \\pi(s_{1},a_{1}; \\theta) Q^{\\pi}(s_{1},a_{1}) d a_{1}+\\ldots) d s_{1}=\\sum_{t=0}^{\\infty} \\int_{S}\\int_{S} \\gamma^{t}\\cdot p_{0}(s_{0}) \\cdot p(s_{0}\\rightarrow s_{t}, t, \\pi)\\cdot d s_{0} \\int_{A} \\nabla_{\\theta}\\pi(s_{t},a_{t};\\theta)\\cdot Q^{\\pi}(s_{t}, a_{t})\\cdot d a_{t}\\cdot d s_{t}$\n",
    "\n",
    "Then interchange the summation:\n",
    "\n",
    "$\\nabla_{\\theta} J(\\theta)=\\int_{S}\\int_{S}\\sum_{t=0}^{\\infty} \\gamma^{t}\\cdot p_{0}(s_{0}) \\cdot p(s_{0}\\rightarrow s,t,\\pi)\\cdot d s_{0} \\int_{A}\\nabla_{\\theta} \\pi(s,a;\\theta)\\cdot Q^{\\pi}(s, a) \\cdot da \\cdot d s=\\int_{S}\\rho^{\\pi}(s) \\int_{A}\\nabla_{\\theta}\\pi(s,a;\\theta) \\cdot Q^{\\pi}(s, a)\\cdot d a\\cdot d s.$ "
   ]
  },
  {
   "cell_type": "markdown",
   "metadata": {},
   "source": [
    "$\\textbf{2. Softmax policy score function}$\n",
    "\n",
    "$\\nabla_{\\theta}\\log\\pi(s,a;\\theta)=\\phi(s,a)-\\sum_{b}\\pi(s,b;\\theta)\\cdot\\phi(s, b)=\\phi(s, a)-E_{\\pi}[\\phi(s,\\cdot)]$"
   ]
  },
  {
   "cell_type": "markdown",
   "metadata": {},
   "source": [
    "$\\textbf{3. Gaussian policy score function}$\n",
    "\n",
    "$\\nabla_{\\theta} \\log \\pi(s,a;\\theta)=\\frac{(a-\\theta^{T} \\cdot\\phi(s))\\cdot\\phi(s)}{\\sigma^{2}}$"
   ]
  },
  {
   "cell_type": "markdown",
   "metadata": {},
   "source": [
    "$\\textbf{4. Proof of the compatible function approximation theorem}$\n",
    "\n",
    "For $w$ that minimizes,\n",
    "\n",
    "$\\epsilon=\\int_{S}\\rho^{\\pi}(s)\\int_{A}\\pi(s,a;\\theta)\\cdot(Q^{\\pi}(s,a)-Q(s,a;w))^{2}\\cdot d a \\cdot d s= \\int_{S}\\rho^{\\pi}(s) \\int_{A}\\pi(s,a;\\theta)\\cdot(Q^{\\pi}(s,a)-Q(s,a;w))\\cdot \\nabla_{w} Q(s,a;w)\\cdot da \\cdot ds=0$\n",
    "\n",
    "But since \n",
    "\n",
    "$\\nabla_{w} Q(s,a;w)=\\nabla_{\\theta}\\log\\pi(s,a;\\theta)$, \n",
    "\n",
    "we have $\\int_{\\mathcal{S}} \\rho^{\\pi}(s) \\int_{A}\\pi(s,a;\\theta)\\cdot(Q^{\\pi}(s,a)-Q(s,a;w))\\cdot \\nabla_{\\theta}\\log\\pi(s,a;\\theta)\\cdot da \\cdot ds=0$\n",
    "\n",
    "Therefore,\n",
    "\n",
    "$\\int_{S}\\rho^{\\pi}(s)\\int_{A}\\pi(s,a;\\theta)\\cdot Q^{\\pi}(s,a)\\cdot \\nabla_{\\theta} \\log\\pi(s,a;\\theta)\\cdot da\\cdot ds=\\int_{S}\\rho^{\\pi}(s)\\int_{A}\\pi(s,a;\\theta)\\cdot Q(s,a;w) \\cdot\\nabla_{\\theta}\\log\\pi(s,a;\\theta)\\cdot da \\cdot ds$\n",
    "\n",
    "$\\nabla_{\\theta} J(\\theta)=\\int_{S}\\rho^{\\pi}(s) \\int_{A} \\pi(s,a;\\theta)\\cdot Q^{\\pi}(s,a) \\cdot\\nabla_{\\theta}\\log\\pi(s,a;\\theta)\\cdot da \\cdot ds$\n",
    "\n",
    "So, \n",
    "\n",
    "$\\nabla_{\\theta} J(\\theta)=\\int_{S}\\rho^{\\pi}(s) \\int_{A}\\pi(s,a;\\theta)\\cdot Q(s,a;w) \\cdot\\nabla_{\\theta}\\log\\pi(s,a;\\theta)\\cdot da\\cdot ds=\\int_{S}\\rho^{\\pi}(s) \\int_{A} \\nabla_{\\theta} \\pi(s,a;\\theta)\\cdot Q(s,a;w)\\cdot da \\cdot ds$"
   ]
  },
  {
   "cell_type": "code",
   "execution_count": null,
   "metadata": {
    "collapsed": true
   },
   "outputs": [],
   "source": []
  }
 ],
 "metadata": {
  "kernelspec": {
   "display_name": "Python 3",
   "language": "python",
   "name": "python3"
  },
  "language_info": {
   "codemirror_mode": {
    "name": "ipython",
    "version": 3
   },
   "file_extension": ".py",
   "mimetype": "text/x-python",
   "name": "python",
   "nbconvert_exporter": "python",
   "pygments_lexer": "ipython3",
   "version": "3.6.2"
  }
 },
 "nbformat": 4,
 "nbformat_minor": 2
}
