{
 "cells": [
  {
   "cell_type": "markdown",
   "metadata": {},
   "source": [
    "$\\textbf{Jan 23 CARA/CRRA}$\n",
    "\n",
    "$\\textbf{1. Absolution Risk-Aversion}$\n",
    "\n",
    "Absolute risk premium: \n",
    "\n",
    "$\\pi_A=E[x]-x_{CE}$\n",
    "\n",
    "$\\pi_A \\approx -\\frac{U''(\\bar x)}{2U'(\\bar x)}\\sigma_x^{2}, \\bar{x}=E[x].$\n",
    "\n",
    "Absolute risk aversion:\n",
    "$A(x) = -\\frac{U''(\\bar x)}{U'(\\bar x)}$\n",
    "\n",
    "Constant Absolute Risk Aversion (CARA):\n",
    "\n",
    "$U(x)=\\frac{-e^{-ax}}{a}, a \\neq 0.$\n",
    "\n",
    "So absolute risk aversion is constant, $A(x)=a.$ If $x~N(\\mu, \\sigma^2)$: \n",
    "$x_{CE}=\\mu-\\frac{a\\sigma^2}{2}, \\pi_{A}=\\frac{a\\sigma^2}{2}.$\n",
    "\n",
    "$\\textbf{2. Relative Risk-Aversion}$\n",
    "\n",
    "Relative risk premium: \n",
    "\n",
    "$\\pi_R=\\frac{\\pi_A}{E[x]}=1-\\frac{x_{CE}}{E(x)}$\n",
    "\n",
    "Relative risk aversion:\n",
    "\n",
    "$\\pi_R \\approx -\\frac{U''(x)x}{U'(x)}.$\n",
    "\n",
    "Constant Relative Risk Aversion (CRRA):\n",
    "\n",
    "$U(x)=\\frac{x^{1-\\gamma}}{1-\\gamma}, \\gamma \\neq 1.$\n",
    "\n",
    "So relative risk aversion is constant, $R(x)=\\gamma$. If $log(x)~N(\\mu, \\sigma^2)$:\n",
    "\n",
    "$x_{CE}=e^{\\mu+\\frac{\\sigma^2}{2}(1-\\gamma)}, \\pi_{R}=1-\\frac{x_{CE}}{\\bar x}=1-e^{-\\frac{\\sigma^2\\gamma}{2}}$"
   ]
  },
  {
   "cell_type": "code",
   "execution_count": null,
   "metadata": {
    "collapsed": true
   },
   "outputs": [],
   "source": []
  }
 ],
 "metadata": {
  "kernelspec": {
   "display_name": "Python 3",
   "language": "python",
   "name": "python3"
  },
  "language_info": {
   "codemirror_mode": {
    "name": "ipython",
    "version": 3
   },
   "file_extension": ".py",
   "mimetype": "text/x-python",
   "name": "python",
   "nbconvert_exporter": "python",
   "pygments_lexer": "ipython3",
   "version": "3.6.2"
  }
 },
 "nbformat": 4,
 "nbformat_minor": 2
}
