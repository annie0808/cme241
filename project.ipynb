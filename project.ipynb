$\textbf{Project: Optimal Asset Allocation/Consumption, Merton's Problem}$

$\textbf{Introduction:}$

This project is to model Merton's Problem using RL. This problem is attractive because it is highly related to an essential topic of finance, which is the portfolio construction. 

$\textbf{Merton's Problem}$

First, let us recall Merton's problem with all the arguments under MDP:

The State is $(t, W_t)$, the Action is $[\pi_t,c_t]$, the Reward per unit time is $U(c_t)$, the Return is the usual accumulated discounted Reward. 

Goal: Find Policy : $(t, W_t) → [\pi_t,c_t]$ that maximizes the Expected Return.

The wealth can be represented as $W_{t+1}=(1+r)(W_t-x_t)+(1 + R)x_t=(1+r)W_t+S_t x_t$.

Then we use Bellman Optimality Equation:

$V(t,W_t)=\max_{x_t}\gamma E \left(V(t+1,W_{t+1})\right)=\max_{x_t}\gamma E\left(V(t+1,(1+r)W_t+S_tx_t)\right)=\gamma^{T-t}E\{U(W_T)|W_t\}=\gamma^{T-t}E \left(-\frac{e^{-aW_{T}}}{a}|W_t\right)$ using CRRA.

$V(t, W_t)=-\frac{\gamma^{T -t}}{a}e^{-\frac{(\mu-r)^2(T-t)}{2\sigma^2}-a(1+r)^{T-t}W_t}$

To be more specific, we also have the following parameters: $\gamma$: discount rate; r: risky free rate; inside CRRA equation, we have: $\mu:$ vector of mean of risky assets; gamma: used in the utility comsumption, different from discount rate; $\Sigma:$ covariances matrix of risky assets.

$\textbf{Methodology}$

We use the function approximation as well as policy gradient for this project. For these part of code, it is inherited from our code of dunction approximation and policy gradient. Especially, for the sake of convenience, we simplify the model where we assume the return of the risky asset has normal distribution. However, we should know it is impossible in the reality. And we will use Actor-Critic Policy Gradient Algorithms with TD(0). Here we estimate $\mu$ and $\Sigma$ in the critic. We estimate the parameters of actions with respect to the states in the actor. Furthermore, we choose beta distribution for the policy gradient because the actions is between 0 and 1. The pseudocode is: 

![title](ac.png)

To see the code and comments, please see project.py. 

$\textbf{Discussion}$

For this project, we will use a simplified model where it only has one risky asset. However, in the real world, the situation is definitely much more complicated. It should have discrete amounts of assets to hold and discrete quantities of trades. Furthermore, there should be consumption constraint since the resource is scarce in terms of funds and money. Moreover, the risk-free rate is uncertain and changing all the time. However, due to the time limitation, we are not able to discuss such complicated situations. Using the base of current RL codes, it should be able to implement in the future.