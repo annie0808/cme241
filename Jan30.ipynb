{
 "cells": [
  {
   "cell_type": "markdown",
   "metadata": {},
   "source": [
    "$\\textbf{Optimal Exercise of American Options}$\n",
    "\n",
    "For European Call/Put Option:\n",
    "\n",
    "The Black-Scholes equation is:\n",
    "$C(S,t)=S_t\\Phi\\left(d_1\\right)-e^{-r(T-t)}K\\Phi\\left(d_2\\right),$\n",
    "\n",
    "$d_1=\\frac{\\log(\\frac{S_t}{K})+(r+\\frac{\\sigma^2}/{2})(T-t)}{\\sigma\\sqrt{T-t}},$\n",
    "\n",
    "$d_2=d_1-\\sigma\\sqrt{T-t}$ "
   ]
  },
  {
   "cell_type": "code",
   "execution_count": 1,
   "metadata": {
    "collapsed": true
   },
   "outputs": [],
   "source": [
    "from typing import Tuple\n",
    "import numpy as np\n",
    "from scipy.stats import norm\n",
    "\n",
    "class euro_option:\n",
    "    def __init__(self,s:float,k:float,r:float,T:int,t:int,mu:float,sigma:float):\n",
    "        self.s = s # stock\n",
    "        self.k = k # strike\n",
    "        self.T = T # strike time\n",
    "        self.t = t # current time\n",
    "        self.r = r # interest rate\n",
    "        self.mu = mu # mu\n",
    "        self.sigma = sigma # sigma\n",
    "        self.d1, self.d2 = calc_d1_d2()\n",
    "        \n",
    "    def calc_d1_d2(self)->Tuple[float,float]:\n",
    "        d1=(np.log(self.s/self.k)+(self.r+0.5*self.sigma**2)*(self.T-self.t))/(self.sigma*np.sqrt(self.T-self.t))\n",
    "        d2=d1-self.sigma*np.sqrt(self.T-self.t) \n",
    "        return d1,d2\n",
    "        \n",
    "    def get_call(self)->float:\n",
    "        call=(self.s*norm.cdf(self.d1,0,1)-self.k*np.exp(-self.r*(self.T-self.t))*norm.cdf(self.d2,0,1))\n",
    "        return call\n",
    "        \n",
    "    def get_put(self)->float:\n",
    "        put=(self.k*np.exp(-self.r*(self.T-self.t))*norm.cdf(-self.d2,0,1)-self.s*norm.cdf(-self.d1,0,1))\n",
    "        return put"
   ]
  },
  {
   "cell_type": "markdown",
   "metadata": {},
   "source": [
    "For American Option: we will implement for American Call Option. We will use binary tree:\n",
    "\n",
    "$s_{t+1}=\\left\\{\\begin{array}{ l l }{as_t}&{\\text{ with probability } p}\\\\{bs_t} & { \\text { with probability }}\\end{array}\\right\\},$ \n",
    "\n",
    "where $a>1$ and $0<b<1$."
   ]
  },
  {
   "cell_type": "code",
   "execution_count": 15,
   "metadata": {
    "collapsed": true
   },
   "outputs": [],
   "source": [
    "import numpy as np\n",
    "from typing import TypeVar\n",
    "def american_option(T:int, p:float, c:float, s0:float, K:float):\n",
    "    prices = np.zeros((T+1, T+1))\n",
    "    for i in range(T+1):\n",
    "        prices[:(i+1),i]=pow(c,(-i + 2*np.arange(i+1)))\n",
    "    prices = prices*s0\n",
    "    net_p = prices-K\n",
    "    net_p*=(net_p>0)  \n",
    "    val = net_p.copy()\n",
    "    actions = np.zeros((T+1, T+1))\n",
    "    for i in range(T-1,-1,-1):\n",
    "        ex = net_p[:(i+2),i+1].copy()\n",
    "        tp = net_p[:(i+1),i].copy()\n",
    "        ex_1 = (1-p)*ex[:-1]+p*ex[1:]\n",
    "        summ= np.concatenate((ex_1.reshape(len(ex_1),1),tp.reshape(len(tp),1)),1)\n",
    "        actions[:(i+1),i] = np.apply_along_axis(np.argmax,1,summ)\n",
    "        val[:(i+1),i] = np.apply_along_axis(max,1,summ)\n",
    "    return actions, val"
   ]
  },
  {
   "cell_type": "code",
   "execution_count": null,
   "metadata": {
    "collapsed": true
   },
   "outputs": [],
   "source": []
  }
 ],
 "metadata": {
  "kernelspec": {
   "display_name": "Python 3",
   "language": "python",
   "name": "python3"
  },
  "language_info": {
   "codemirror_mode": {
    "name": "ipython",
    "version": 3
   },
   "file_extension": ".py",
   "mimetype": "text/x-python",
   "name": "python",
   "nbconvert_exporter": "python",
   "pygments_lexer": "ipython3",
   "version": "3.6.2"
  }
 },
 "nbformat": 4,
 "nbformat_minor": 2
}
