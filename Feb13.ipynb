{
 "cells": [
  {
   "cell_type": "markdown",
   "metadata": {},
   "source": [
    "$\\textbf{Feb 13 TD(lambda)}$\n",
    "\n",
    "Both forward-view and backward-view TD(lambda) please see code td_lambda.py.\n",
    "\n",
    "To see the online and offline, here is the table:\n",
    "![title](td.jpg)\n",
    "\n",
    "$\\textbf{1. Forward-View TD(lambda)}$\n",
    "\n",
    "n-step TD: $G_{t}^{(n)}=R_{t+1}+\\gamma R_{t+2}+...+\\gamma^{n-1} R_{t+n}+\\gamma^{n}V(S_{t+n})$\n",
    "\n",
    "$G_{t}^{\\lambda}=(1-\\lambda) \\sum_{n=1}^{\\infty} \\lambda^{n-1} G_{t}^{(n)}$\n",
    "\n",
    "$V(S_{t})=V(S_{t})+\\alpha (G_{t}^{\\lambda}-V(S_{t}))$\n",
    "\n",
    "$\\textbf{2. Backward-View TD(lambda)}$\n",
    "\n",
    "$E_{t}(s)=\\gamma \\lambda E_{t-1}(s)+\\mathbf{1}(S_{t}=s)$\n",
    "\n",
    "$V(s)=V(s)+\\alpha \\delta_{t} E_{t}(s)$"
   ]
  }
 ],
 "metadata": {
  "kernelspec": {
   "display_name": "Python 3",
   "language": "python",
   "name": "python3"
  },
  "language_info": {
   "codemirror_mode": {
    "name": "ipython",
    "version": 3
   },
   "file_extension": ".py",
   "mimetype": "text/x-python",
   "name": "python",
   "nbconvert_exporter": "python",
   "pygments_lexer": "ipython3",
   "version": "3.6.2"
  }
 },
 "nbformat": 4,
 "nbformat_minor": 2
}
