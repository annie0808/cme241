{
 "cells": [
  {
   "cell_type": "markdown",
   "metadata": {},
   "source": [
    "$\\textbf{Feb15 Model Free Control}$\n",
    "\n",
    "$1. Prove the Epsilon-Greedy Policy Improvement Theorem$\n",
    "\n",
    "Epislon-greedy policy $\\pi$ has improvement $\\pi '$ corresponding to $q_{\\pi}$. $v_{\\pi'}(s)\\geq v_{\\pi}(s)$. We would like to prove this argument.\n",
    "\n",
    "$q_{\\pi}(s,\\pi'(s))=\\sum_{a \\in A} \\pi'(a | s) q_{\\pi}(s,a)=\\frac{\\epsilon}{m}\\sum_{a \\in A} q_{\\pi}(s,a)+(1-\\epsilon) \\max _{a \\in A} q_{\\pi}(s, a)$\n",
    "\n",
    "$\\geq \\frac{\\epsilon}{m} \\sum_{a \\in A} q_{\\pi}(s,a)+(1-\\epsilon) \\sum_{a \\in A} \\frac{\\pi(a|s)-\\frac{\\epsilon}{m}}{1-\\epsilon} q_{\\pi}(s,a)$\n",
    "\n",
    "$=\\sum_{a\\in A}\\pi(a|s) q_{\\pi}(s,a)=v_{\\pi}(s)$\n",
    "\n",
    "Hence, proved."
   ]
  },
  {
   "cell_type": "markdown",
   "metadata": {},
   "source": [
    "$\\textbf{2. Definition of GLE}$\n",
    "\n",
    "State-action pairs are explored infinitely many times:$\\lim_{k \\rightarrow \\infty} N_k{s,a}=\\infty$.\n",
    "\n",
    "$\\lim_{k \\rightarrow \\infty} \\pi_{k}(a|s)=1(argmax_{a' \\in A} Q_{k}(s,a'))$"
   ]
  },
  {
   "cell_type": "markdown",
   "metadata": {},
   "source": [
    "$\\textbf{3. tabular SARSA and tabular SARSA(Lambda) and tabular Q-learning}$\n",
    "\n",
    "For the code of SARSA, SARSA(Lambda) as well as Q-learning please see code td_control.py. The code design is inherited from TD(0) and TD(lambda). To see the choice of different learning, I set it as a boolean, where choice=0 means SARSA and choice=1 means Q-learning. "
   ]
  },
  {
   "cell_type": "code",
   "execution_count": null,
   "metadata": {
    "collapsed": true
   },
   "outputs": [],
   "source": []
  }
 ],
 "metadata": {
  "kernelspec": {
   "display_name": "Python 3",
   "language": "python",
   "name": "python3"
  },
  "language_info": {
   "codemirror_mode": {
    "name": "ipython",
    "version": 3
   },
   "file_extension": ".py",
   "mimetype": "text/x-python",
   "name": "python",
   "nbconvert_exporter": "python",
   "pygments_lexer": "ipython3",
   "version": "3.6.2"
  }
 },
 "nbformat": 4,
 "nbformat_minor": 2
}
